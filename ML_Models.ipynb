{
 "cells": [
  {
   "cell_type": "code",
   "execution_count": 1,
   "metadata": {},
   "outputs": [],
   "source": [
    "\n",
    "import sklearn as SK\n",
    "import lightgbm as lgb\n",
    "from sklearn.metrics import *\n",
    "from sklearn.metrics import confusion_matrix\n",
    "from sklearn.model_selection import *\n",
    "from skopt import BayesSearchCV\n",
    "import numpy as np\n",
    "import pandas as pd\n",
    "import scipy.stats\n",
    "from math import sqrt\n",
    "import os \n",
    "import io\n",
    "from tensorboard.plugins.hparams import api as hp\n",
    "from utils import utils\n",
    "\n",
    "commons = utils.Commons()\n",
    "shap_helper = utils.Shap_Helper()\n",
    "ml_helper = utils.ML_Helper()\n",
    "model_generator = utils.Model_Generator()\n",
    "ml_helper.model_type = ml_helper.Regression # Always set this variable to the type of model you are building\n",
    "model_generator.model_type = ml_helper.model_type # Always set this variable to the type of model you are building\n",
    "\n",
    "os.environ[\"TF_CPP_MIN_LOG_LEVEL\"] = \"-1\""
   ]
  },
  {
   "cell_type": "code",
   "execution_count": 2,
   "metadata": {},
   "outputs": [
    {
     "name": "stdout",
     "output_type": "stream",
     "text": [
      "Loaded dataset ./data/Regression/Tb.brucei/scaffold_split/train_fold_4.csv with shape: (500, 3)\n",
      "Loaded dataset ./data/Regression/Tb.brucei/scaffold_split/valid_fold_4.csv with shape: (63, 3)\n",
      "Loaded dataset ./data/Regression/Tb.brucei/scaffold_split/test_fold_4.csv with shape: (62, 3)\n"
     ]
    },
    {
     "data": {
      "text/html": [
       "<div>\n",
       "<style scoped>\n",
       "    .dataframe tbody tr th:only-of-type {\n",
       "        vertical-align: middle;\n",
       "    }\n",
       "\n",
       "    .dataframe tbody tr th {\n",
       "        vertical-align: top;\n",
       "    }\n",
       "\n",
       "    .dataframe thead th {\n",
       "        text-align: right;\n",
       "    }\n",
       "</style>\n",
       "<table border=\"1\" class=\"dataframe\">\n",
       "  <thead>\n",
       "    <tr style=\"text-align: right;\">\n",
       "      <th></th>\n",
       "      <th>ID</th>\n",
       "      <th>SMILES</th>\n",
       "      <th>Tb.brucei</th>\n",
       "    </tr>\n",
       "  </thead>\n",
       "  <tbody>\n",
       "    <tr>\n",
       "      <th>0</th>\n",
       "      <td>4317</td>\n",
       "      <td>CN(C1C=CC(C=CC=NNC(=S)N)=CC=1)C</td>\n",
       "      <td>4.751781</td>\n",
       "    </tr>\n",
       "    <tr>\n",
       "      <th>1</th>\n",
       "      <td>3961</td>\n",
       "      <td>CCCCCCOC(OCCC1C=C(O)C(O)=CC=1)=O</td>\n",
       "      <td>6.698970</td>\n",
       "    </tr>\n",
       "    <tr>\n",
       "      <th>2</th>\n",
       "      <td>4169</td>\n",
       "      <td>OCCCCCCOC(OCCC1C=C(O)C(O)=CC=1)=O</td>\n",
       "      <td>5.387216</td>\n",
       "    </tr>\n",
       "    <tr>\n",
       "      <th>3</th>\n",
       "      <td>3988</td>\n",
       "      <td>CCCCCCCCCOC(OCCC1C=C(O)C(O)=CC=1)=O</td>\n",
       "      <td>6.397940</td>\n",
       "    </tr>\n",
       "    <tr>\n",
       "      <th>4</th>\n",
       "      <td>4002</td>\n",
       "      <td>CCCCCCCCOC(OCCC1C=C(O)C(O)=CC=1)=O</td>\n",
       "      <td>6.301030</td>\n",
       "    </tr>\n",
       "  </tbody>\n",
       "</table>\n",
       "</div>"
      ],
      "text/plain": [
       "     ID                               SMILES  Tb.brucei\n",
       "0  4317      CN(C1C=CC(C=CC=NNC(=S)N)=CC=1)C   4.751781\n",
       "1  3961     CCCCCCOC(OCCC1C=C(O)C(O)=CC=1)=O   6.698970\n",
       "2  4169    OCCCCCCOC(OCCC1C=C(O)C(O)=CC=1)=O   5.387216\n",
       "3  3988  CCCCCCCCCOC(OCCC1C=C(O)C(O)=CC=1)=O   6.397940\n",
       "4  4002   CCCCCCCCOC(OCCC1C=C(O)C(O)=CC=1)=O   6.301030"
      ]
     },
     "execution_count": 2,
     "metadata": {},
     "output_type": "execute_result"
    }
   ],
   "source": [
    "#Inport train, validation and test sets\n",
    "FOLD = 4\n",
    "classification_path = \"./data/Classification/\"\n",
    "regression_path = \"./data/Regression/\"\n",
    "\n",
    "task_name = \"Tb.brucei/\"\n",
    "\n",
    "scaffold_split = \"scaffold_split/\"\n",
    "random_split = \"random_split/\"\n",
    "\n",
    "split_type = scaffold_split\n",
    "\n",
    "classification_path = classification_path + task_name + split_type\n",
    "regression_path = regression_path + task_name + split_type\n",
    "\n",
    "train_path = f\"train_fold_{FOLD}.csv\"\n",
    "valid_path = f\"valid_fold_{FOLD}.csv\"\n",
    "test_path = f\"test_fold_{FOLD}.csv\"\n",
    "\n",
    "training = regression_path + train_path\n",
    "validation = regression_path + valid_path\n",
    "test = regression_path  + test_path\n",
    "TASK_START = 2\n",
    "NUM_TASKS = 1\n",
    "SMILES = 'SMILES'\n",
    "# Available Models are (LGBM,SVM,RF)\n",
    "SELECTED_MODEL = model_generator.RF\n",
    "\n",
    "train_dataset,y_train,train_smiles = commons.load_dataset(training,SMILES,TASK_START,NUM_TASKS)\n",
    "valid_dataset,y_val,val_smiles = commons.load_dataset(validation,SMILES,TASK_START,NUM_TASKS)\n",
    "test_dataset,y_test,test_smiles = commons.load_dataset(test,SMILES,TASK_START,NUM_TASKS)\n",
    "\n",
    "train_dataset.head()"
   ]
  },
  {
   "cell_type": "code",
   "execution_count": 3,
   "metadata": {},
   "outputs": [],
   "source": [
    "# calculate ECFP (defaut) fingerprints using RDKit\n",
    "RADIUS = 2 #diameter 4\n",
    "FP_SIZE = 2048  #bit string size\n",
    "FEAT = False #used when you consider pharmacophoric features\n",
    "X_train = commons.assing_fp(train_smiles,FP_SIZE,RADIUS,FEAT)\n",
    "X_test = commons.assing_fp(test_smiles,FP_SIZE,RADIUS,FEAT)\n",
    "\n",
    "y_train = y_train.ravel()\n",
    "y_train = np.array(y_train).astype(int)\n",
    "y_test = y_test.ravel()\n",
    "y_test = np.array(y_test).astype(int)\n"
   ]
  },
  {
   "cell_type": "code",
   "execution_count": 4,
   "metadata": {},
   "outputs": [
    {
     "name": "stderr",
     "output_type": "stream",
     "text": [
      "c:\\Users\\Laplace\\anaconda3\\envs\\AI\\lib\\site-packages\\sklearn\\model_selection\\_split.py:684: UserWarning: The least populated class in y has only 2 members, which is less than n_splits=5.\n",
      "  warnings.warn(\n",
      "c:\\Users\\Laplace\\anaconda3\\envs\\AI\\lib\\site-packages\\sklearn\\model_selection\\_split.py:684: UserWarning: The least populated class in y has only 2 members, which is less than n_splits=5.\n",
      "  warnings.warn(\n",
      "c:\\Users\\Laplace\\anaconda3\\envs\\AI\\lib\\site-packages\\sklearn\\model_selection\\_split.py:684: UserWarning: The least populated class in y has only 2 members, which is less than n_splits=5.\n",
      "  warnings.warn(\n"
     ]
    },
    {
     "name": "stdout",
     "output_type": "stream",
     "text": [
      "Best parameters: OrderedDict([('max_depth', 5), ('max_features', 'sqrt'), ('n_estimators', 140)])\n"
     ]
    }
   ],
   "source": [
    "cv = RepeatedStratifiedKFold(n_splits=5, n_repeats=3, random_state=1)\n",
    "scorer = make_scorer(mean_squared_error)\n",
    "\n",
    "build_model = model_generator.Models[SELECTED_MODEL]\n",
    "CLASSIFIER = build_model[\"classifier\"]\n",
    "PARAMS = build_model[\"params\"]\n",
    "\n",
    "# log-uniform: understand as search over p = exp(x) by varying x\n",
    "\n",
    "best_model = BayesSearchCV(CLASSIFIER,\n",
    "    PARAMS,\n",
    "    n_iter=1, # Number of parameter settings that are sampled\n",
    "    cv=cv,\n",
    "    scoring = scorer,\n",
    "    refit = True, # Refit the best estimator with the entire dataset.\n",
    "    random_state=42,\n",
    "    n_jobs = -1\n",
    ")\n",
    "\n",
    "best_model.fit(X_train, y_train)\n",
    "\n",
    "print(\"Best parameters: %s\" % best_model.best_params_)"
   ]
  },
  {
   "cell_type": "code",
   "execution_count": 5,
   "metadata": {},
   "outputs": [
    {
     "data": {
      "text/html": [
       "<style>#sk-container-id-1 {color: black;background-color: white;}#sk-container-id-1 pre{padding: 0;}#sk-container-id-1 div.sk-toggleable {background-color: white;}#sk-container-id-1 label.sk-toggleable__label {cursor: pointer;display: block;width: 100%;margin-bottom: 0;padding: 0.3em;box-sizing: border-box;text-align: center;}#sk-container-id-1 label.sk-toggleable__label-arrow:before {content: \"▸\";float: left;margin-right: 0.25em;color: #696969;}#sk-container-id-1 label.sk-toggleable__label-arrow:hover:before {color: black;}#sk-container-id-1 div.sk-estimator:hover label.sk-toggleable__label-arrow:before {color: black;}#sk-container-id-1 div.sk-toggleable__content {max-height: 0;max-width: 0;overflow: hidden;text-align: left;background-color: #f0f8ff;}#sk-container-id-1 div.sk-toggleable__content pre {margin: 0.2em;color: black;border-radius: 0.25em;background-color: #f0f8ff;}#sk-container-id-1 input.sk-toggleable__control:checked~div.sk-toggleable__content {max-height: 200px;max-width: 100%;overflow: auto;}#sk-container-id-1 input.sk-toggleable__control:checked~label.sk-toggleable__label-arrow:before {content: \"▾\";}#sk-container-id-1 div.sk-estimator input.sk-toggleable__control:checked~label.sk-toggleable__label {background-color: #d4ebff;}#sk-container-id-1 div.sk-label input.sk-toggleable__control:checked~label.sk-toggleable__label {background-color: #d4ebff;}#sk-container-id-1 input.sk-hidden--visually {border: 0;clip: rect(1px 1px 1px 1px);clip: rect(1px, 1px, 1px, 1px);height: 1px;margin: -1px;overflow: hidden;padding: 0;position: absolute;width: 1px;}#sk-container-id-1 div.sk-estimator {font-family: monospace;background-color: #f0f8ff;border: 1px dotted black;border-radius: 0.25em;box-sizing: border-box;margin-bottom: 0.5em;}#sk-container-id-1 div.sk-estimator:hover {background-color: #d4ebff;}#sk-container-id-1 div.sk-parallel-item::after {content: \"\";width: 100%;border-bottom: 1px solid gray;flex-grow: 1;}#sk-container-id-1 div.sk-label:hover label.sk-toggleable__label {background-color: #d4ebff;}#sk-container-id-1 div.sk-serial::before {content: \"\";position: absolute;border-left: 1px solid gray;box-sizing: border-box;top: 0;bottom: 0;left: 50%;z-index: 0;}#sk-container-id-1 div.sk-serial {display: flex;flex-direction: column;align-items: center;background-color: white;padding-right: 0.2em;padding-left: 0.2em;position: relative;}#sk-container-id-1 div.sk-item {position: relative;z-index: 1;}#sk-container-id-1 div.sk-parallel {display: flex;align-items: stretch;justify-content: center;background-color: white;position: relative;}#sk-container-id-1 div.sk-item::before, #sk-container-id-1 div.sk-parallel-item::before {content: \"\";position: absolute;border-left: 1px solid gray;box-sizing: border-box;top: 0;bottom: 0;left: 50%;z-index: -1;}#sk-container-id-1 div.sk-parallel-item {display: flex;flex-direction: column;z-index: 1;position: relative;background-color: white;}#sk-container-id-1 div.sk-parallel-item:first-child::after {align-self: flex-end;width: 50%;}#sk-container-id-1 div.sk-parallel-item:last-child::after {align-self: flex-start;width: 50%;}#sk-container-id-1 div.sk-parallel-item:only-child::after {width: 0;}#sk-container-id-1 div.sk-dashed-wrapped {border: 1px dashed gray;margin: 0 0.4em 0.5em 0.4em;box-sizing: border-box;padding-bottom: 0.4em;background-color: white;}#sk-container-id-1 div.sk-label label {font-family: monospace;font-weight: bold;display: inline-block;line-height: 1.2em;}#sk-container-id-1 div.sk-label-container {text-align: center;}#sk-container-id-1 div.sk-container {/* jupyter's `normalize.less` sets `[hidden] { display: none; }` but bootstrap.min.css set `[hidden] { display: none !important; }` so we also need the `!important` here to be able to override the default hidden behavior on the sphinx rendered scikit-learn.org. See: https://github.com/scikit-learn/scikit-learn/issues/21755 */display: inline-block !important;position: relative;}#sk-container-id-1 div.sk-text-repr-fallback {display: none;}</style><div id=\"sk-container-id-1\" class=\"sk-top-container\"><div class=\"sk-text-repr-fallback\"><pre>RandomForestClassifier(max_depth=5, n_estimators=140)</pre><b>In a Jupyter environment, please rerun this cell to show the HTML representation or trust the notebook. <br />On GitHub, the HTML representation is unable to render, please try loading this page with nbviewer.org.</b></div><div class=\"sk-container\" hidden><div class=\"sk-item\"><div class=\"sk-estimator sk-toggleable\"><input class=\"sk-toggleable__control sk-hidden--visually\" id=\"sk-estimator-id-1\" type=\"checkbox\" checked><label for=\"sk-estimator-id-1\" class=\"sk-toggleable__label sk-toggleable__label-arrow\">RandomForestClassifier</label><div class=\"sk-toggleable__content\"><pre>RandomForestClassifier(max_depth=5, n_estimators=140)</pre></div></div></div></div></div>"
      ],
      "text/plain": [
       "RandomForestClassifier(max_depth=5, n_estimators=140)"
      ]
     },
     "execution_count": 5,
     "metadata": {},
     "output_type": "execute_result"
    }
   ],
   "source": [
    "model = CLASSIFIER.set_params(**best_model.best_params_)\n",
    "#model.probability = True\n",
    "model.fit(X_train, y_train)\n"
   ]
  },
  {
   "cell_type": "code",
   "execution_count": 6,
   "metadata": {},
   "outputs": [
    {
     "name": "stdout",
     "output_type": "stream",
     "text": [
      "Before 3 Sigma:\n",
      " Statistic       Value\n",
      "-----------  --------\n",
      "MSE          0.766\n",
      "MAE          0.53\n",
      "R2           0.224621\n",
      "\n",
      "After 3 Sigma:\n",
      "\n",
      "Mean error:  0.53\n",
      "\n",
      "Average std error:  0.696491205974634\n",
      "\n",
      "Drop list size:  290\n",
      "\n",
      "Statistic         Value\n",
      "-----------  ----------\n",
      "MSE           1.41429\n",
      "MAE           1.1381\n",
      "R2           -0.0442164\n",
      "\n",
      "Before 3 Sigma:\n",
      " Statistic        Value\n",
      "-----------  ---------\n",
      "MSE           1.37097\n",
      "MAE           0.758065\n",
      "R2           -0.230159\n",
      "\n",
      "After 3 Sigma:\n",
      "\n",
      "Mean error:  0.7580645161290323\n",
      "\n",
      "Average std error:  0.892359754427294\n",
      "\n",
      "Drop list size:  34\n",
      "\n",
      "Statistic        Value\n",
      "-----------  ---------\n",
      "MSE           1.75\n",
      "MAE           1.25\n",
      "R2           -0.465812\n",
      "\n"
     ]
    }
   ],
   "source": [
    "ml_helper.get_ML_StatsForNSplits(model,X_train=X_train,y_train=y_train,X_test=X_test,y_test=y_test)"
   ]
  }
 ],
 "metadata": {
  "kernelspec": {
   "display_name": "AI",
   "language": "python",
   "name": "python3"
  },
  "language_info": {
   "codemirror_mode": {
    "name": "ipython",
    "version": 3
   },
   "file_extension": ".py",
   "mimetype": "text/x-python",
   "name": "python",
   "nbconvert_exporter": "python",
   "pygments_lexer": "ipython3",
   "version": "3.9.12"
  },
  "orig_nbformat": 4,
  "vscode": {
   "interpreter": {
    "hash": "305c663c06086012150402cb542001f2c1c554dcd7eca29927fc1d739b83f0a9"
   }
  }
 },
 "nbformat": 4,
 "nbformat_minor": 2
}
