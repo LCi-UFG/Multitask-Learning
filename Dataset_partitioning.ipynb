{
 "cells": [
  {
   "cell_type": "code",
   "execution_count": 2,
   "id": "a54bd168",
   "metadata": {
    "scrolled": true
   },
   "outputs": [
    {
     "name": "stderr",
     "output_type": "stream",
     "text": [
      "100%|██████████| 3987/3987 [00:00<00:00, 6404.89it/s]\n"
     ]
    },
    {
     "name": "stdout",
     "output_type": "stream",
     "text": [
      "Fold 0 Using seed 29692\n",
      "\n"
     ]
    },
    {
     "name": "stderr",
     "output_type": "stream",
     "text": [
      "100%|██████████| 3987/3987 [00:00<00:00, 6342.77it/s]\n"
     ]
    },
    {
     "name": "stdout",
     "output_type": "stream",
     "text": [
      "Fold 1 Using seed 29692\n",
      "\n"
     ]
    },
    {
     "name": "stderr",
     "output_type": "stream",
     "text": [
      "100%|██████████| 3987/3987 [00:00<00:00, 6415.70it/s]\n"
     ]
    },
    {
     "name": "stdout",
     "output_type": "stream",
     "text": [
      "Fold 2 Using seed 29692\n",
      "\n"
     ]
    },
    {
     "name": "stderr",
     "output_type": "stream",
     "text": [
      "100%|██████████| 3987/3987 [00:00<00:00, 6454.65it/s]\n"
     ]
    },
    {
     "name": "stdout",
     "output_type": "stream",
     "text": [
      "Fold 3 Using seed 29692\n",
      "\n"
     ]
    },
    {
     "name": "stderr",
     "output_type": "stream",
     "text": [
      "100%|██████████| 3987/3987 [00:00<00:00, 6555.11it/s]\n"
     ]
    },
    {
     "name": "stdout",
     "output_type": "stream",
     "text": [
      "Fold 4 Using seed 29692\n",
      "\n"
     ]
    }
   ],
   "source": [
    "from utils import split\n",
    "import pandas as pd\n",
    "import numpy as np\n",
    "import random\n",
    "########################################################\n",
    "# example usage to random split the dataset 5 times\n",
    "split = split.DataSplitter()\n",
    "split.split_type = split.Random_split\n",
    "\n",
    "RANDOM_SEED = random.randint(1, 50000)\n",
    "DATASET = \"./data/data_tryp.csv\"\n",
    "SAVING_LOCATION = \"./data/\"\n",
    "N_FOLDS = 5\n",
    "SEED = 42\n",
    "SIZES = (.8,.1,.1)\n",
    "\n",
    "for (train, valid, test), fold, seed in split.split_data(DATASET, n_folds=N_FOLDS, sizes=SIZES, seed=RANDOM_SEED):\n",
    "    print(f\"Fold {fold}\",f\"Using seed {seed}\" ,end=\"\\n\\n\")\n",
    "    train,valid,test = split.merge_data(DATASET, train, valid, test)\n",
    "\n",
    "    train.to_csv(f\"{SAVING_LOCATION}train_{fold}.csv\", index=False)\n",
    "    valid.to_csv(f\"{SAVING_LOCATION}valid_{fold}.csv\", index=False)\n",
    "    test.to_csv(f\"{SAVING_LOCATION}test_{fold}.csv\", index=False)"
   ]
  }
 ],
 "metadata": {
  "kernelspec": {
   "display_name": "AI",
   "language": "python",
   "name": "python3"
  },
  "language_info": {
   "codemirror_mode": {
    "name": "ipython",
    "version": 3
   },
   "file_extension": ".py",
   "mimetype": "text/x-python",
   "name": "python",
   "nbconvert_exporter": "python",
   "pygments_lexer": "ipython3",
   "version": "3.9.12"
  },
  "vscode": {
   "interpreter": {
    "hash": "305c663c06086012150402cb542001f2c1c554dcd7eca29927fc1d739b83f0a9"
   }
  }
 },
 "nbformat": 4,
 "nbformat_minor": 5
}
