{
 "cells": [
  {
   "cell_type": "code",
   "execution_count": 1,
   "id": "3c1661c2",
   "metadata": {},
   "outputs": [
    {
     "name": "stdout",
     "output_type": "stream",
     "text": [
      "  tensorlayer: GPU MEM Fraction 0.900000\n",
      "Num GPUs Available:  0\n"
     ]
    }
   ],
   "source": [
    "#Import standard packages for model training\n",
    "\n",
    "import tensorflow as T\n",
    "from tensorflow import *\n",
    "from tensorflow.keras import initializers\n",
    "from tensorflow.keras import regularizers\n",
    "from tensorflow.keras import layers\n",
    "from tensorflow.keras.layers import *\n",
    "from tensorflow.keras.optimizers import *\n",
    "from tensorflow.keras.callbacks import *\n",
    "from tensorflow.keras.losses import *\n",
    "import numpy as np\n",
    "import pandas as pd\n",
    "import sklearn.metrics as SK\n",
    "from sklearn.metrics import *\n",
    "import matplotlib.pyplot as plt\n",
    "import os \n",
    "import io\n",
    "from utils import utils\n",
    "from utils.GPU import *\n",
    "commons = utils.Commons()\n",
    "ts_helper = utils.TS_Helper()\n",
    "ts_helper.model_type = ts_helper.Classification\n",
    "shap_helper = utils.Shap_Helper()\n",
    "os.environ[\"TF_CPP_MIN_LOG_LEVEL\"] = \"2\""
   ]
  },
  {
   "cell_type": "code",
   "execution_count": 2,
   "id": "452c3db9",
   "metadata": {},
   "outputs": [
    {
     "name": "stdout",
     "output_type": "stream",
     "text": [
      "Loaded dataset ./data/Classification/T.cruzi/scaffold_split/train_fold_0.csv with shape: (4914, 3)\n",
      "Loaded dataset ./data/Classification/T.cruzi/scaffold_split/valid_fold_1.csv with shape: (615, 3)\n",
      "Loaded dataset ./data/Classification/T.cruzi/scaffold_split/test_fold_2.csv with shape: (614, 3)\n"
     ]
    }
   ],
   "source": [
    "#Import train, validation and test sets\n",
    "\n",
    "training = './data/Classification/T.cruzi/scaffold_split/train_fold_0.csv'\n",
    "validation = './data/Classification/T.cruzi/scaffold_split/valid_fold_1.csv'\n",
    "test = './data/Classification/T.cruzi/scaffold_split/test_fold_2.csv'\n",
    "TASK_START = 2\n",
    "NUM_TASKS = 1\n",
    "SMILES = \"SMILES\"\n",
    "train_dataset,y_train,train_smiles = commons.load_dataset(training,SMILES,TASK_START,NUM_TASKS)\n",
    "val_dataset,y_val,val_smiles = commons.load_dataset(validation,SMILES,TASK_START,NUM_TASKS)\n",
    "test_dataset,y_test,test_smiles = commons.load_dataset(test,SMILES,TASK_START,NUM_TASKS)\n"
   ]
  },
  {
   "cell_type": "code",
   "execution_count": 3,
   "id": "6ce4554d",
   "metadata": {},
   "outputs": [
    {
     "ename": "KeyboardInterrupt",
     "evalue": "",
     "output_type": "error",
     "traceback": [
      "\u001b[1;31m---------------------------------------------------------------------------\u001b[0m",
      "\u001b[1;31mKeyboardInterrupt\u001b[0m                         Traceback (most recent call last)",
      "\u001b[1;32mc:\\Users\\Laplace\\Desktop\\work\\projetos academicos\\labmol\\Code_dump\\Github_Artigo\\Github_Artigo\\BaseModel_Classification _MPNN.ipynb Cell 3\u001b[0m in \u001b[0;36m<cell line: 5>\u001b[1;34m()\u001b[0m\n\u001b[0;32m      <a href='vscode-notebook-cell:/c%3A/Users/Laplace/Desktop/work/projetos%20academicos/labmol/Code_dump/Github_Artigo/Github_Artigo/BaseModel_Classification%20_MPNN.ipynb#W2sZmlsZQ%3D%3D?line=0'>1</a>\u001b[0m \u001b[39m#Import atom and bond featurizers\u001b[39;00m\n\u001b[0;32m      <a href='vscode-notebook-cell:/c%3A/Users/Laplace/Desktop/work/projetos%20academicos/labmol/Code_dump/Github_Artigo/Github_Artigo/BaseModel_Classification%20_MPNN.ipynb#W2sZmlsZQ%3D%3D?line=2'>3</a>\u001b[0m \u001b[39mfrom\u001b[39;00m \u001b[39mutils\u001b[39;00m\u001b[39m.\u001b[39;00m\u001b[39mgraphs\u001b[39;00m \u001b[39mimport\u001b[39;00m \u001b[39m*\u001b[39m\n\u001b[1;32m----> <a href='vscode-notebook-cell:/c%3A/Users/Laplace/Desktop/work/projetos%20academicos/labmol/Code_dump/Github_Artigo/Github_Artigo/BaseModel_Classification%20_MPNN.ipynb#W2sZmlsZQ%3D%3D?line=4'>5</a>\u001b[0m X_train \u001b[39m=\u001b[39m graphs_from_smiles(train_dataset\u001b[39m.\u001b[39;49miloc[:,NUM_TASKS]\u001b[39m.\u001b[39;49mvalues)\n\u001b[0;32m      <a href='vscode-notebook-cell:/c%3A/Users/Laplace/Desktop/work/projetos%20academicos/labmol/Code_dump/Github_Artigo/Github_Artigo/BaseModel_Classification%20_MPNN.ipynb#W2sZmlsZQ%3D%3D?line=5'>6</a>\u001b[0m \u001b[39m#print(train_dataset.iloc[:,NUM_TASKS].values)\u001b[39;00m\n\u001b[0;32m      <a href='vscode-notebook-cell:/c%3A/Users/Laplace/Desktop/work/projetos%20academicos/labmol/Code_dump/Github_Artigo/Github_Artigo/BaseModel_Classification%20_MPNN.ipynb#W2sZmlsZQ%3D%3D?line=6'>7</a>\u001b[0m X_test \u001b[39m=\u001b[39m graphs_from_smiles(test_dataset\u001b[39m.\u001b[39miloc[:,NUM_TASKS]\u001b[39m.\u001b[39mvalues)\n",
      "File \u001b[1;32mc:\\Users\\Laplace\\Desktop\\work\\projetos academicos\\labmol\\Code_dump\\Github_Artigo\\Github_Artigo\\utils\\graphs.py:118\u001b[0m, in \u001b[0;36mgraphs_from_smiles\u001b[1;34m(SMILES_list)\u001b[0m\n\u001b[0;32m    116\u001b[0m \u001b[39mfor\u001b[39;00m SMILES \u001b[39min\u001b[39;00m SMILES_list:\n\u001b[0;32m    117\u001b[0m     molecule \u001b[39m=\u001b[39m molecule_from_smiles(SMILES)\n\u001b[1;32m--> 118\u001b[0m     atom_features, bond_features, pair_indices \u001b[39m=\u001b[39m graph_from_molecule(molecule)\n\u001b[0;32m    120\u001b[0m     atom_features_list\u001b[39m.\u001b[39mappend(atom_features)\n\u001b[0;32m    121\u001b[0m     bond_features_list\u001b[39m.\u001b[39mappend(bond_features)\n",
      "File \u001b[1;32mc:\\Users\\Laplace\\Desktop\\work\\projetos academicos\\labmol\\Code_dump\\Github_Artigo\\Github_Artigo\\utils\\graphs.py:108\u001b[0m, in \u001b[0;36mgraph_from_molecule\u001b[1;34m(molecule)\u001b[0m\n\u001b[0;32m    105\u001b[0m         pair_indices\u001b[39m.\u001b[39mappend([atom\u001b[39m.\u001b[39mGetIdx(), neighbor\u001b[39m.\u001b[39mGetIdx()])\n\u001b[0;32m    106\u001b[0m         bond_features\u001b[39m.\u001b[39mappend(bond_featurizer\u001b[39m.\u001b[39mencode(bond))\n\u001b[1;32m--> 108\u001b[0m \u001b[39mreturn\u001b[39;00m np\u001b[39m.\u001b[39;49marray(atom_features), np\u001b[39m.\u001b[39marray(bond_features), np\u001b[39m.\u001b[39marray(pair_indices)\n",
      "\u001b[1;31mKeyboardInterrupt\u001b[0m: "
     ]
    }
   ],
   "source": [
    "#Import atom and bond featurizers\n",
    "\n",
    "from utils.graphs import *\n",
    "\n",
    "X_train = graphs_from_smiles(train_dataset.iloc[:,NUM_TASKS].values)\n",
    "#print(train_dataset.iloc[:,NUM_TASKS].values)\n",
    "X_test = graphs_from_smiles(test_dataset.iloc[:,NUM_TASKS].values)\n",
    "\n",
    "X_val = graphs_from_smiles(val_dataset.iloc[:,NUM_TASKS].values)\n",
    " \n",
    "molecule = molecule_from_smiles(train_dataset.iloc[8].SMILES)\n",
    "graph = graph_from_molecule(molecule)\n",
    "print(\"Graph (including self-loops):\")\n",
    "print(\"\\tatom features\\t\", graph[0].shape)\n",
    "print(\"\\tbond features\\t\", graph[1].shape)\n",
    "print(\"\\tpair indices\\t\", graph[2].shape)"
   ]
  },
  {
   "cell_type": "code",
   "execution_count": null,
   "id": "c47cd610",
   "metadata": {
    "scrolled": true
   },
   "outputs": [],
   "source": [
    "# Import parameters for batch, MPNN, loss and scorers\n",
    "\n",
    "batch_size =48\n",
    "dense_units = 50\n",
    "\n",
    "from utils.batch import *\n",
    "from utils.MPNN import *\n",
    "from utils.utils import *\n",
    "\n",
    "\n",
    "# parameters for train network\n",
    "\n",
    "def MPNNModel(atom_dim,\n",
    "    bond_dim,\n",
    "    batch_size=batch_size,\n",
    "    message_units=48,\n",
    "    message_steps=8,\n",
    "    num_attention_heads=16,\n",
    "    dense_units=dense_units):\n",
    "\n",
    "    atom_features = layers.Input((atom_dim), dtype=\"float32\", name=\"atom_features\")\n",
    "    bond_features = layers.Input((bond_dim), dtype=\"float32\", name=\"bond_features\")\n",
    "    pair_indices = layers.Input((2), dtype=\"int32\", name=\"pair_indices\")\n",
    "    molecule_indicator = layers.Input((), dtype=\"int32\", name=\"molecule_indicator\")\n",
    "\n",
    "    x = MessagePassing(message_units, message_steps)([atom_features, bond_features, pair_indices])\n",
    "    x = TransformerEncoderReadout(num_attention_heads, message_units, dense_units, batch_size)([x, molecule_indicator])\n",
    "    x = layers.Dense(10, activation=\"sigmoid\", kernel_regularizer=T.keras.regularizers.L2(0.05))(x)\n",
    "\n",
    "    \n",
    "    model = keras.Model(inputs=[atom_features, bond_features, pair_indices, molecule_indicator],\n",
    "        outputs=[x])\n",
    "    return model\n",
    "    \n",
    "optimizer = RMSprop(0.1, momentum=0.99)\n",
    "lr_metric = ts_helper.get_lr_metric(optimizer)   \n",
    "\n",
    "model = MPNNModel(atom_dim=X_train[0][0][0].shape[0], bond_dim=X_train[1][0][0].shape[0])\n",
    "model.compile(loss = ts_helper.classification_loss(ts_helper.BinaryCrossentropy,1), metrics=[lr_metric])   \n",
    "model.summary()\n",
    "T.keras.utils.plot_model(model)"
   ]
  },
  {
   "cell_type": "code",
   "execution_count": null,
   "id": "0d0d0455",
   "metadata": {
    "scrolled": true
   },
   "outputs": [],
   "source": [
    "# Early stopping parameters\n",
    "\n",
    "train_model = MPNNDataset(X_train, y_train, batch_size)\n",
    "val_model = MPNNDataset(X_val, y_val, batch_size)\n",
    "test_model = MPNNDataset(X_test, y_test, batch_size)\n",
    "#print(train_dataset.unbatch())\n",
    "callbacks_list = [\n",
    "    ReduceLROnPlateau(monitor='loss', factor=0.5, patience=10, min_lr=0.000000001, verbose=1, mode='auto',cooldown=0),\n",
    "    #ModelCheckpoint(filepath=\"./models/fine_tuned_model2.tf\", monitor='val_loss', save_best_only=True, verbose=1, mode='auto'),\n",
    "    EarlyStopping(monitor='val_loss', min_delta=0.001, patience=5, mode='min', verbose=1)]\n",
    "\n",
    "# parameters for train network\n",
    "\n",
    "epochs = 20\n",
    "\n",
    "history = model.fit(train_model,\n",
    "                    epochs = epochs,\n",
    "                    batch_size = batch_size,\n",
    "                    validation_data = val_model,                    \n",
    "                    callbacks = (callbacks_list))\n"
   ]
  },
  {
   "cell_type": "code",
   "execution_count": null,
   "id": "9da804fd",
   "metadata": {
    "scrolled": true
   },
   "outputs": [],
   "source": [
    "#Plot model history\n",
    "\n",
    "ts_helper.plot_history(history)\n",
    "\n"
   ]
  },
  {
   "cell_type": "code",
   "execution_count": null,
   "id": "059e867d",
   "metadata": {
    "scrolled": true
   },
   "outputs": [],
   "source": [
    "#Statistical characteristics of tasks\n",
    "THRESHOLD = 0.5\n",
    "print(ts_helper.model_type)\n",
    "\n",
    "ts_helper.get_modelStatsFor_nSplits(model,tasks=NUM_TASKS,threshold=THRESHOLD,X_train=train_model,y_train=y_train,X_test=test_model,y_test=y_test,X_val=val_model,y_val=y_val)"
   ]
  }
 ],
 "metadata": {
  "kernelspec": {
   "display_name": "AI",
   "language": "python",
   "name": "python3"
  },
  "language_info": {
   "codemirror_mode": {
    "name": "ipython",
    "version": 3
   },
   "file_extension": ".py",
   "mimetype": "text/x-python",
   "name": "python",
   "nbconvert_exporter": "python",
   "pygments_lexer": "ipython3",
   "version": "3.9.12"
  },
  "vscode": {
   "interpreter": {
    "hash": "305c663c06086012150402cb542001f2c1c554dcd7eca29927fc1d739b83f0a9"
   }
  }
 },
 "nbformat": 4,
 "nbformat_minor": 5
}
