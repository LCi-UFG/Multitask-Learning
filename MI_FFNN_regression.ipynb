{
 "cells": [
  {
   "cell_type": "code",
   "execution_count": null,
   "id": "539345d1",
   "metadata": {
    "scrolled": true
   },
   "outputs": [],
   "source": [
    "import tensorflow as T\n",
    "from tensorflow import keras\n",
    "from tensorflow.keras import backend as K\n",
    "from tensorflow.keras import initializers\n",
    "from tensorflow.keras.regularizers import l1_l2, l1, l2\n",
    "from tensorflow.keras.models import Sequential\n",
    "from tensorflow.keras.layers import *\n",
    "from tensorflow.keras.constraints import *\n",
    "from tensorflow.keras.optimizers import *\n",
    "from tensorflow.keras.callbacks import *\n",
    "from tensorflow.keras.losses import *\n",
    "from tensorflow.keras.wrappers.scikit_learn import *\n",
    "from tensorflow.keras.callbacks import TensorBoard\n",
    "from tensorboard.plugins.hparams import api as hp\n",
    "\n",
    "from rdkit import Chem\n",
    "from rdkit.Chem import AllChem\n",
    "from rdkit.Chem import DataStructs\n",
    "from rdkit.Chem import rdMolDescriptors\n",
    "from rdkit.Chem.AllChem import GetMorganFingerprintAsBitVect\n",
    "\n",
    "from IPython.display import clear_output\n",
    "import numpy as np\n",
    "import pandas as pd\n",
    "from sklearn.metrics import *\n",
    "from sklearn.model_selection import train_test_split\n",
    "from math import sqrt\n",
    "from statistics import *\n",
    "from matplotlib import pyplot\n",
    "import matplotlib.pyplot as plt\n",
    "import seaborn as sns\n",
    "import time\n",
    "import datetime\n",
    "import shap \n",
    "shap.initjs()\n",
    "import os \n",
    "import io\n",
    "from tensorboard.plugins.hparams import api as hp\n",
    "from tensorflow.keras.models import load_model\n",
    "from utils import utils\n",
    "import gc\n",
    "#os.environ[\"TF_CPP_MIN_LOG_LEVEL\"] = \"-1\""
   ]
  },
  {
   "cell_type": "code",
   "execution_count": null,
   "id": "c5fc6465",
   "metadata": {},
   "outputs": [],
   "source": [
    "#Set the percentage of cuda cores (1 = 100%)\n",
    "commons = utils.Commons()\n",
    "ts_helper = utils.TS_Helper()\n",
    "shap_helper = utils.Shap_Helper()\n",
    "ts_helper.model_type = ts_helper.Regression\n",
    "FRACTION = 0.75\n",
    "\n",
    "ts_helper.set_gpu_fraction(FRACTION)\n"
   ]
  },
  {
   "cell_type": "code",
   "execution_count": null,
   "id": "1f97fed3",
   "metadata": {
    "scrolled": true
   },
   "outputs": [],
   "source": [
    "#Create y_train, y_test and y_test sets\n",
    "\n",
    "TASK_START = 2\n",
    "N_TASKS = 3\n",
    "TASK_END = TASK_START + N_TASKS\n",
    "SMILES = \"SMILES\"\n",
    "data_tryp = r\"./data/data_tryp.csv\"\n",
    "molecula_hit = r\"./data/hit_smiles.csv\"\n",
    "\n",
    "train_dataset,y_train,train_smiles = commons.load_dataset(data_tryp,SMILES, TASK_START, N_TASKS)\n",
    "hit_data,y_hit,hit_smiles = commons.load_dataset(molecula_hit,SMILES, TASK_START, N_TASKS)"
   ]
  },
  {
   "cell_type": "code",
   "execution_count": null,
   "id": "4dc13225",
   "metadata": {
    "scrolled": true
   },
   "outputs": [],
   "source": [
    "train_stats = train_dataset.describe()\n",
    "train_stats.pop(\"ID\")"
   ]
  },
  {
   "cell_type": "code",
   "execution_count": null,
   "id": "dc355297",
   "metadata": {
    "scrolled": true
   },
   "outputs": [],
   "source": [
    "FP_SIZE = 2048\n",
    "RADIUS = 2\n",
    "FEAT = False\n",
    "\n",
    "X_train = commons.assing_fp(train_smiles,FP_SIZE,RADIUS,FEAT)\n",
    "X_hit = commons.assing_fp(hit_smiles,FP_SIZE,RADIUS,FEAT)\n",
    "#split data for model building\n",
    "#X_test, X_val, y_test, y_val = train_test_split(X_test, y_test, test_size=0.5, random_state=1, shuffle=True)\n",
    "\n",
    "X_train.shape, X_hit.shape"
   ]
  },
  {
   "cell_type": "code",
   "execution_count": null,
   "id": "3b520dfd",
   "metadata": {},
   "outputs": [],
   "source": [
    "base_model = load_model('./models/TM-FNN_regression_model.hdf5',custom_objects={'regression_loss':ts_helper.regression_loss, 'lr': ts_helper.get_lr_metric})\n",
    "    \n",
    "optimizer = RMSprop(learning_rate=0.001)\n",
    "lr_metric = ts_helper.get_lr_metric(optimizer)\n",
    "base_model.compile(loss=ts_helper.regression_loss, metrics = [lr_metric])    \n",
    "base_model.summary()\n",
    "T.keras.utils.plot_model(base_model)"
   ]
  },
  {
   "cell_type": "markdown",
   "id": "da2f0f0e",
   "metadata": {},
   "source": [
    "# Get the image fragment "
   ]
  },
  {
   "cell_type": "markdown",
   "id": "4184b0e9",
   "metadata": {},
   "source": [
    "#### Get the overall bit information"
   ]
  },
  {
   "cell_type": "code",
   "execution_count": null,
   "id": "bdd52c2a",
   "metadata": {},
   "outputs": [],
   "source": [
    "atom_list, radius_list, mols, bit_list = shap_helper.get_bit_info(hit_smiles,FP_SIZE,RADIUS,FEAT)\n",
    "print(len(mols))\n",
    "frag_list = shap_helper.generateFragList(mols,radius_list,atom_list,bit_list)\n",
    "print(frag_list[1])"
   ]
  },
  {
   "cell_type": "markdown",
   "id": "48024d1d",
   "metadata": {},
   "source": [
    "# shape Value"
   ]
  },
  {
   "cell_type": "code",
   "execution_count": null,
   "id": "df1e2d1e",
   "metadata": {},
   "outputs": [],
   "source": [
    "X_f_train = shap_helper.formatDataforShapValues(X_train)\n",
    "X_f_hit = shap_helper.formatDataforShapValues(X_hit)\n",
    "\n",
    "X_f_train.shape, X_f_hit.shape,X_f_train.head()"
   ]
  },
  {
   "cell_type": "code",
   "execution_count": null,
   "id": "31352fe1",
   "metadata": {},
   "outputs": [],
   "source": [
    "masker = shap.maskers.Independent(data = X_hit)"
   ]
  },
  {
   "cell_type": "code",
   "execution_count": null,
   "id": "b5b2ae2c",
   "metadata": {},
   "outputs": [],
   "source": [
    "explainer_kernel = shap.KernelExplainer(model = base_model.predict, data = X_f_hit.head(4), link = \"identity\")"
   ]
  },
  {
   "cell_type": "code",
   "execution_count": null,
   "id": "be2052d4",
   "metadata": {},
   "outputs": [],
   "source": [
    "import ipywidgets as widgets\n",
    "\n",
    "# Create the list of all labels for the drop down list\n",
    "list_of_labels = hit_data.iloc[:,TASK_START:TASK_END].columns.to_list()\n",
    "\n",
    "# Create a list of tuples so that the index of the label is what is returned\n",
    "tuple_of_labels = list(zip(list_of_labels, range(len(list_of_labels))))\n",
    "\n",
    "# Create a widget for the labels and then display the widget\n",
    "current_label = widgets.Dropdown(options=tuple_of_labels,\n",
    "                              value=0,\n",
    "                              description='Select Label:'\n",
    "                              )\n",
    "\n",
    "# Display the dropdown list (Note: access index value with 'current_label.value')\n",
    "current_label"
   ]
  },
  {
   "cell_type": "code",
   "execution_count": null,
   "id": "72d34f54",
   "metadata": {},
   "outputs": [],
   "source": [
    "start = 0\n",
    "end = start+1\n",
    "X_f_hit.iloc[[start,end],:]"
   ]
  },
  {
   "cell_type": "code",
   "execution_count": null,
   "id": "3f5386e6",
   "metadata": {},
   "outputs": [],
   "source": [
    "import math\n",
    "# Set the index of the specific example to explain\n",
    "gc.collect()\n",
    "shap_value_single = explainer_kernel.shap_values(X = X_f_hit.iloc[start:end,:], nsamples = 1000)\n",
    "best_bits = shap_helper.get_bits_fromBestShaps(X_f_hit,shap_value_single,20)"
   ]
  },
  {
   "cell_type": "code",
   "execution_count": null,
   "id": "f8c86498",
   "metadata": {},
   "outputs": [],
   "source": [
    "# print the JS visualization code to the notebook\n",
    "print(f'Current Label Shown: {list_of_labels[current_label.value]}\\n')\n",
    "\n",
    "shap.force_plot(base_value = explainer_kernel.expected_value[current_label.value],\n",
    "                matplotlib=False,\n",
    "                shap_values = shap_value_single[current_label.value],\n",
    "                features = X_f_train.iloc[start:end:])\n"
   ]
  },
  {
   "cell_type": "code",
   "execution_count": null,
   "id": "f3d910a4",
   "metadata": {},
   "outputs": [],
   "source": [
    "# print the JS visualization code to the notebook\n",
    "print(f'Current Label Shown: {list_of_labels[current_label.value]}\\n')\n",
    "\n",
    "shap.force_plot(base_value = explainer_kernel.expected_value[current_label.value],\n",
    "                shap_values = shap_value_single[current_label.value],\n",
    "                features = X_f_train.iloc[start:end,:],\n",
    "                show=True,matplotlib=True, plot_cmap='RdBu')\n"
   ]
  },
  {
   "cell_type": "code",
   "execution_count": null,
   "id": "12adca05",
   "metadata": {},
   "outputs": [],
   "source": [
    "# fragment_bit1 = 93\n",
    "# fragment_bit2 = 197\n",
    "best_bits = best_bits\n",
    "combined_list = frag_list\n",
    "shap_helper.draw_highlightedMols(mols,combined_list,0,best_bits)[0]\n"
   ]
  }
 ],
 "metadata": {
  "kernelspec": {
   "display_name": "AI",
   "language": "python",
   "name": "python3"
  },
  "language_info": {
   "codemirror_mode": {
    "name": "ipython",
    "version": 3
   },
   "file_extension": ".py",
   "mimetype": "text/x-python",
   "name": "python",
   "nbconvert_exporter": "python",
   "pygments_lexer": "ipython3",
   "version": "3.9.12 | packaged by conda-forge | (main, Mar 24 2022, 23:18:12) [MSC v.1929 64 bit (AMD64)]"
  },
  "vscode": {
   "interpreter": {
    "hash": "305c663c06086012150402cb542001f2c1c554dcd7eca29927fc1d739b83f0a9"
   }
  }
 },
 "nbformat": 4,
 "nbformat_minor": 5
}
